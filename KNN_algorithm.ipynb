{
  "nbformat": 4,
  "nbformat_minor": 0,
  "metadata": {
    "colab": {
      "provenance": []
    },
    "kernelspec": {
      "name": "python3",
      "display_name": "Python 3"
    },
    "language_info": {
      "name": "python"
    }
  },
  "cells": [
    {
      "cell_type": "markdown",
      "source": [
        "#K-Nearest Neighbor\n",
        "\n",
        "---\n",
        "\n",
        "* K-Nearest Neighbour is one of the simplest Machine Learning algorithms based on Supervised Learning technique.\n",
        "\n",
        "* K-NN algorithm assumes the similarity between the new case/data and available cases and put the new case into the category that is most similar to the available categories.\n",
        "\n",
        "* K-NN algorithm stores all the available data and classifies a new data point based on the similarity. This means when new data appears then it can be easily classified into a well suite category by using K- NN algorithm.\n",
        "\n",
        "* K-NN algorithm can be used for Regression as well as for Classification but mostly it is used for the Classification problems.\n",
        "\n",
        "* K-NN is a non-parametric algorithm, which means it does not make any assumption on underlying data.\n",
        "\n",
        "* It is also called a lazy learner algorithm because it does not learn from the training set immediately instead it stores the dataset and at the time of classification, it performs an action on the dataset.\n",
        "\n",
        "* KNN algorithm at the training phase just stores the dataset and when it gets new data, then it classifies that data into a category that is much similar to the new data.\n"
      ],
      "metadata": {
        "id": "GrqFUFGXn3rM"
      }
    },
    {
      "cell_type": "markdown",
      "source": [
        "**Iris dataset**\n",
        "\n",
        "* This data sets consists of 3 different types of irises’ (Setosa, Versicolour, and Virginica) petal and sepal length, stored in a 150x4 numpy.ndarray\n",
        "\n",
        "* The rows being the samples and the columns being: Sepal Length, Sepal Width, Petal Length and Petal Width."
      ],
      "metadata": {
        "id": "Q0vj4cuCox3i"
      }
    },
    {
      "cell_type": "markdown",
      "source": [
        "**Loading Data**"
      ],
      "metadata": {
        "id": "1I11saEFvPnE"
      }
    },
    {
      "cell_type": "code",
      "source": [
        "import csv\n",
        "import random\n",
        "def loadDataset(filename, split, trainingSet=[], testSet=[]):\n",
        "  with open(filename, 'r') as csvfile:\n",
        "    lines = csv.reader(csvfile)\n",
        "    dataset = list(lines)\n",
        "    # print(str(dataset))\n",
        "    for x in range(1, len(dataset)):\n",
        "      for y in range(4):\n",
        "        dataset[x][y] = float(dataset[x][y])\n",
        "      if random.random() < split:\n",
        "        trainingSet.append(dataset[x])\n",
        "      else:\n",
        "        testSet.append(dataset[x])"
      ],
      "metadata": {
        "id": "LqtUT511nvS8"
      },
      "execution_count": null,
      "outputs": []
    },
    {
      "cell_type": "code",
      "source": [
        "trainingSet = []\n",
        "testSet = []\n",
        "# r means raw literal used for \\ to be remain same\n",
        "loadDataset(r'/content/drive/MyDrive/Colab Notebooks/Iris.csv', 0.66, trainingSet, testSet)\n",
        "# repr() Function returns a printable representation of an object\n",
        "print ('Train: ' + repr(len(trainingSet)))\n",
        "print ('Test: ' + repr(len(testSet)))"
      ],
      "metadata": {
        "colab": {
          "base_uri": "https://localhost:8080/"
        },
        "id": "TUrqqbuYqjmx",
        "outputId": "58421d6d-fb6e-4b3f-83cd-d677354a86d6"
      },
      "execution_count": null,
      "outputs": [
        {
          "output_type": "stream",
          "name": "stdout",
          "text": [
            "Train: 102\n",
            "Test: 48\n"
          ]
        }
      ]
    },
    {
      "cell_type": "markdown",
      "source": [
        "**Find Similarity**"
      ],
      "metadata": {
        "id": "XN3htThcvIvY"
      }
    },
    {
      "cell_type": "code",
      "source": [
        "import math\n",
        "def euclideanDistance(instance1, instance2, length):\n",
        "  distance = 0\n",
        "  for x in range(length-1):\n",
        "    # formula-> distance = sqrt(summation of (x1-x2)^2)\n",
        "    distance += pow((instance1[x]-instance2[x]), 2)\n",
        "  return math.sqrt(distance)"
      ],
      "metadata": {
        "id": "asoZWuSosXPc"
      },
      "execution_count": null,
      "outputs": []
    },
    {
      "cell_type": "code",
      "source": [
        "# testing above function\n",
        "data1 = [2, 2, 2, 'a']\n",
        "data2 = [4, 4, 4, 'b']\n",
        "distance = euclideanDistance(data1, data2, 3)\n",
        "print('Distance: ' + repr(distance))"
      ],
      "metadata": {
        "colab": {
          "base_uri": "https://localhost:8080/"
        },
        "id": "tIAlve1Xtouz",
        "outputId": "154c6303-3d2f-47ab-9733-31ac05661014"
      },
      "execution_count": null,
      "outputs": [
        {
          "output_type": "stream",
          "name": "stdout",
          "text": [
            "Distance: 2.8284271247461903\n"
          ]
        }
      ]
    },
    {
      "cell_type": "markdown",
      "source": [
        "**Finding K nearest neighbors**"
      ],
      "metadata": {
        "id": "axk610SWwvCM"
      }
    },
    {
      "cell_type": "code",
      "source": [
        "import operator\n",
        "def getNeighbors(trainingSet, testInstance, k):\n",
        "  distances = []\n",
        "  length = len(testInstance)-1\n",
        "  for x in range(len(trainingSet)):\n",
        "    dist = euclideanDistance(testInstance, trainingSet[x], length)\n",
        "    distances.append((trainingSet[x], dist))\n",
        "  distances.sort(key=operator.itemgetter(1))\n",
        "  neighbors = []\n",
        "  for x in range(k):\n",
        "    neighbors.append(distances[x][0])\n",
        "  return neighbors\n"
      ],
      "metadata": {
        "id": "WQie0eYkwr2Y"
      },
      "execution_count": null,
      "outputs": []
    },
    {
      "cell_type": "code",
      "source": [
        "# testing above function\n",
        "trainSet = [[2,2,2,'a'], [4,4,4,'b']]\n",
        "testInstance = [5,5,5]\n",
        "k = 1\n",
        "neighbors = getNeighbors(trainSet, testInstance, 1)\n",
        "print(neighbors)"
      ],
      "metadata": {
        "colab": {
          "base_uri": "https://localhost:8080/"
        },
        "id": "-FmMRca-xAym",
        "outputId": "57ac676a-82d9-4605-c914-6e1c78916c5c"
      },
      "execution_count": null,
      "outputs": [
        {
          "output_type": "stream",
          "name": "stdout",
          "text": [
            "[[4, 4, 4, 'b']]\n"
          ]
        }
      ]
    },
    {
      "cell_type": "code",
      "source": [
        "import operator\n",
        "def getResponse(neighbors):\n",
        "  classVotes = {}\n",
        "  for x in range(len(neighbors)):\n",
        "    response = neighbors[x][-1]\n",
        "    if response in classVotes:\n",
        "      classVotes[response] += 1\n",
        "    else:\n",
        "      classVotes[response] = 1\n",
        "      # to sort a dict by values pass its items and values as key and we want in descending order so reverse is True\n",
        "    sortedVotes = sorted(classVotes.items(), key=operator.itemgetter(1), reverse=True)\n",
        "    return sortedVotes[0][0]"
      ],
      "metadata": {
        "id": "zBfvR8bDyj-R"
      },
      "execution_count": null,
      "outputs": []
    },
    {
      "cell_type": "code",
      "source": [
        "# testing above function\n",
        "neighbors = [[1,1,1,'a'], [2,2,2,'a'],[3,3,3,'b']]\n",
        "response = getResponse(neighbors)\n",
        "print(response)"
      ],
      "metadata": {
        "colab": {
          "base_uri": "https://localhost:8080/"
        },
        "id": "XYIxqKoxz0mi",
        "outputId": "55557092-7ad2-446c-abd2-a17725ec4fdf"
      },
      "execution_count": null,
      "outputs": [
        {
          "output_type": "stream",
          "name": "stdout",
          "text": [
            "a\n"
          ]
        }
      ]
    },
    {
      "cell_type": "markdown",
      "source": [
        "**Find Accuracy**"
      ],
      "metadata": {
        "id": "K3EMqx8p2fNp"
      }
    },
    {
      "cell_type": "code",
      "source": [
        "def getAccuracy(testSet, predictions):\n",
        "  correct = 0\n",
        "  for x in range(len(testSet)):\n",
        "    if testSet[x][-1] is predictions[x]:\n",
        "      correct += 1\n",
        "  print(correct)\n",
        "  return (correct/float(len(testSet))) * 100.0"
      ],
      "metadata": {
        "id": "cBq5sMEu0JIH"
      },
      "execution_count": null,
      "outputs": []
    },
    {
      "cell_type": "code",
      "source": [
        "# testing above function\n",
        "testSet = [[1,1,1,'a'], [2,2,2,'a'],[3,3,3,'b']]\n",
        "predictions = ['a', 'a', 'a']\n",
        "accuracy = getAccuracy(testSet, predictions)\n",
        "print(accuracy)"
      ],
      "metadata": {
        "colab": {
          "base_uri": "https://localhost:8080/"
        },
        "id": "6-Y-Z7uE2dVn",
        "outputId": "064f740b-ef6d-4c1b-e60f-a8985d2b9171"
      },
      "execution_count": null,
      "outputs": [
        {
          "output_type": "stream",
          "name": "stdout",
          "text": [
            "2\n",
            "66.66666666666666\n"
          ]
        }
      ]
    },
    {
      "cell_type": "markdown",
      "source": [
        "**Code Driver**"
      ],
      "metadata": {
        "id": "FT5wbRtu3LWD"
      }
    },
    {
      "cell_type": "code",
      "source": [
        "# prepare data\n",
        "trainingSet = []\n",
        "testSet = []\n",
        "split = 0.67\n",
        "\n",
        "loadDataset('/content/drive/MyDrive/Colab Notebooks/Iris.csv', split, trainingSet, testSet)\n",
        "print ('Train set:' + repr(len(trainingSet)))\n",
        "print ('Test set:' + repr(len(testSet)))\n",
        "\n",
        "# generate predictions\n",
        "predictions = []\n",
        "k = 3\n",
        "for x in range(len(testSet)):\n",
        "  neighbors = getNeighbors(trainingSet, testSet[x], k)\n",
        "  result = getResponse(neighbors)\n",
        "  predictions.append(result)\n",
        "  print('> Predicted=' + repr(result) + ',  Actual=' + repr(testSet[x][-1]))\n",
        "\n",
        "accuracy = getAccuracy(testSet, predictions)\n",
        "# **Error - Accuracy function is not working properly**\n",
        "print('Accuracy: ' + repr(accuracy) + '%')"
      ],
      "metadata": {
        "colab": {
          "base_uri": "https://localhost:8080/"
        },
        "id": "dPboED0Q24sZ",
        "outputId": "89ade063-b0f2-49f0-e3db-7cd6892709cc"
      },
      "execution_count": null,
      "outputs": [
        {
          "output_type": "stream",
          "name": "stdout",
          "text": [
            "Train set:96\n",
            "Test set:54\n",
            "> Predicted='Iris-setosa',  Actual='Iris-setosa'\n",
            "> Predicted='Iris-setosa',  Actual='Iris-setosa'\n",
            "> Predicted='Iris-setosa',  Actual='Iris-setosa'\n",
            "> Predicted='Iris-setosa',  Actual='Iris-setosa'\n",
            "> Predicted='Iris-setosa',  Actual='Iris-setosa'\n",
            "> Predicted='Iris-setosa',  Actual='Iris-setosa'\n",
            "> Predicted='Iris-setosa',  Actual='Iris-setosa'\n",
            "> Predicted='Iris-setosa',  Actual='Iris-setosa'\n",
            "> Predicted='Iris-setosa',  Actual='Iris-setosa'\n",
            "> Predicted='Iris-setosa',  Actual='Iris-setosa'\n",
            "> Predicted='Iris-setosa',  Actual='Iris-setosa'\n",
            "> Predicted='Iris-setosa',  Actual='Iris-setosa'\n",
            "> Predicted='Iris-setosa',  Actual='Iris-setosa'\n",
            "> Predicted='Iris-versicolor',  Actual='Iris-versicolor'\n",
            "> Predicted='Iris-versicolor',  Actual='Iris-versicolor'\n",
            "> Predicted='Iris-versicolor',  Actual='Iris-versicolor'\n",
            "> Predicted='Iris-versicolor',  Actual='Iris-versicolor'\n",
            "> Predicted='Iris-versicolor',  Actual='Iris-versicolor'\n",
            "> Predicted='Iris-versicolor',  Actual='Iris-versicolor'\n",
            "> Predicted='Iris-versicolor',  Actual='Iris-versicolor'\n",
            "> Predicted='Iris-versicolor',  Actual='Iris-versicolor'\n",
            "> Predicted='Iris-versicolor',  Actual='Iris-versicolor'\n",
            "> Predicted='Iris-versicolor',  Actual='Iris-versicolor'\n",
            "> Predicted='Iris-versicolor',  Actual='Iris-versicolor'\n",
            "> Predicted='Iris-versicolor',  Actual='Iris-versicolor'\n",
            "> Predicted='Iris-versicolor',  Actual='Iris-versicolor'\n",
            "> Predicted='Iris-versicolor',  Actual='Iris-versicolor'\n",
            "> Predicted='Iris-versicolor',  Actual='Iris-versicolor'\n",
            "> Predicted='Iris-versicolor',  Actual='Iris-versicolor'\n",
            "> Predicted='Iris-versicolor',  Actual='Iris-versicolor'\n",
            "> Predicted='Iris-versicolor',  Actual='Iris-versicolor'\n",
            "> Predicted='Iris-versicolor',  Actual='Iris-versicolor'\n",
            "> Predicted='Iris-versicolor',  Actual='Iris-versicolor'\n",
            "> Predicted='Iris-versicolor',  Actual='Iris-versicolor'\n",
            "> Predicted='Iris-versicolor',  Actual='Iris-versicolor'\n",
            "> Predicted='Iris-versicolor',  Actual='Iris-versicolor'\n",
            "> Predicted='Iris-versicolor',  Actual='Iris-versicolor'\n",
            "> Predicted='Iris-versicolor',  Actual='Iris-versicolor'\n",
            "> Predicted='Iris-versicolor',  Actual='Iris-versicolor'\n",
            "> Predicted='Iris-virginica',  Actual='Iris-virginica'\n",
            "> Predicted='Iris-virginica',  Actual='Iris-virginica'\n",
            "> Predicted='Iris-virginica',  Actual='Iris-virginica'\n",
            "> Predicted='Iris-virginica',  Actual='Iris-virginica'\n",
            "> Predicted='Iris-virginica',  Actual='Iris-virginica'\n",
            "> Predicted='Iris-virginica',  Actual='Iris-virginica'\n",
            "> Predicted='Iris-virginica',  Actual='Iris-virginica'\n",
            "> Predicted='Iris-virginica',  Actual='Iris-virginica'\n",
            "> Predicted='Iris-virginica',  Actual='Iris-virginica'\n",
            "> Predicted='Iris-virginica',  Actual='Iris-virginica'\n",
            "> Predicted='Iris-virginica',  Actual='Iris-virginica'\n",
            "> Predicted='Iris-virginica',  Actual='Iris-virginica'\n",
            "> Predicted='Iris-virginica',  Actual='Iris-virginica'\n",
            "> Predicted='Iris-virginica',  Actual='Iris-virginica'\n",
            "> Predicted='Iris-virginica',  Actual='Iris-virginica'\n",
            "0\n",
            "Accuracy: 0.0%\n"
          ]
        }
      ]
    },
    {
      "cell_type": "markdown",
      "source": [
        "# KNN using scikit learn"
      ],
      "metadata": {
        "id": "8_XrlfWgi2Yg"
      }
    },
    {
      "cell_type": "code",
      "source": [
        "from sklearn import datasets\n",
        "from sklearn import metrics\n",
        "from sklearn.naive_bayes import GaussianNB"
      ],
      "metadata": {
        "id": "JS4HtwE73tOn"
      },
      "execution_count": null,
      "outputs": []
    },
    {
      "cell_type": "code",
      "source": [
        "dataset = datasets.load_iris() # iris dataset from sklearn's datasets"
      ],
      "metadata": {
        "id": "wIq7p3YZkqR8"
      },
      "execution_count": null,
      "outputs": []
    },
    {
      "cell_type": "code",
      "source": [
        "model = GaussianNB()\n",
        "model.fit(dataset.data, dataset.target)"
      ],
      "metadata": {
        "colab": {
          "base_uri": "https://localhost:8080/"
        },
        "id": "HLKopMDZlMxz",
        "outputId": "3b139572-95c1-4ce8-db3f-6a0008277de2"
      },
      "execution_count": null,
      "outputs": [
        {
          "output_type": "execute_result",
          "data": {
            "text/plain": [
              "GaussianNB()"
            ]
          },
          "metadata": {},
          "execution_count": 4
        }
      ]
    },
    {
      "cell_type": "code",
      "source": [
        "expected = dataset.target\n",
        "predicted = model.predict(dataset.data)"
      ],
      "metadata": {
        "id": "G1BE2loKldQr"
      },
      "execution_count": null,
      "outputs": []
    },
    {
      "cell_type": "code",
      "source": [
        "print(metrics.classification_report(expected, predicted))\n",
        "print(metrics.confusion_matrix(expected, predicted))"
      ],
      "metadata": {
        "colab": {
          "base_uri": "https://localhost:8080/"
        },
        "id": "sZczb7Awlisw",
        "outputId": "331ece15-b1b8-47ee-acb2-182e5178b058"
      },
      "execution_count": null,
      "outputs": [
        {
          "output_type": "stream",
          "name": "stdout",
          "text": [
            "              precision    recall  f1-score   support\n",
            "\n",
            "           0       1.00      1.00      1.00        50\n",
            "           1       0.94      0.94      0.94        50\n",
            "           2       0.94      0.94      0.94        50\n",
            "\n",
            "    accuracy                           0.96       150\n",
            "   macro avg       0.96      0.96      0.96       150\n",
            "weighted avg       0.96      0.96      0.96       150\n",
            "\n",
            "[[50  0  0]\n",
            " [ 0 47  3]\n",
            " [ 0  3 47]]\n"
          ]
        }
      ]
    },
    {
      "cell_type": "code",
      "source": [],
      "metadata": {
        "id": "GbV2MWxPmNMc"
      },
      "execution_count": null,
      "outputs": []
    }
  ]
}