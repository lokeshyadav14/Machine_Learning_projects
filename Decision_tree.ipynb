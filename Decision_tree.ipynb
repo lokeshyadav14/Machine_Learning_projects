{
  "nbformat": 4,
  "nbformat_minor": 0,
  "metadata": {
    "colab": {
      "provenance": []
    },
    "kernelspec": {
      "name": "python3",
      "display_name": "Python 3"
    },
    "language_info": {
      "name": "python"
    }
  },
  "cells": [
    {
      "cell_type": "markdown",
      "source": [
        "# Decision Tree\n"
      ],
      "metadata": {
        "id": "SZpGVsVU6Mx-"
      }
    },
    {
      "cell_type": "markdown",
      "source": [
        "**Definition-** A decision tree is a non-parametric supervised learning algorithm, which is utilized for both classification and regression tasks. It has a hierarchical, tree structure, which consists of a root node, branches, internal nodes and leaf nodes."
      ],
      "metadata": {
        "id": "J6DiCzlG6iVU"
      }
    },
    {
      "cell_type": "markdown",
      "source": [
        "**Dataset**\n",
        "\n",
        "* Fromat: each row is an example.\n",
        "* The last column is the label.\n",
        "* The first two columns are features.\n",
        "* If you want you can add more features & examples.\n",
        "* Interesting note: 2nd and 5th examples have the same features, but different labels.\n",
        "\n"
      ],
      "metadata": {
        "id": "MeuZ8ZOhgiQg"
      }
    },
    {
      "cell_type": "code",
      "source": [
        "# defining our dataset\n",
        "training_data = [\n",
        "    ['Green', 3, 'Mango'],\n",
        "    ['Yellow', 3, 'Mango'],\n",
        "    ['Red', 1, 'Grape'],\n",
        "    ['Red', 1, 'Grape'],\n",
        "    ['Yellow', 3, 'Lemon'],\n",
        "]\n",
        "\n",
        "testing_data = [\n",
        "    ['Green', 3, 'Mango'],\n",
        "    ['Yellow', 3, 'Mango'],\n",
        "    ['Red', 1, 'Grape'],\n",
        "    ['Red', 1, 'Grape'],\n",
        "    ['Yellow', 3, 'Lemon'],\n",
        "]\n",
        "\n",
        "# column label these are used only to print the tree\n",
        "header = ['Color', 'Diameter', 'Fruit']"
      ],
      "metadata": {
        "id": "u4A4p9Bh6MWL"
      },
      "execution_count": null,
      "outputs": []
    },
    {
      "cell_type": "markdown",
      "source": [
        "**Required Functions**"
      ],
      "metadata": {
        "id": "0rAiijKW3Kwv"
      }
    },
    {
      "cell_type": "code",
      "execution_count": null,
      "metadata": {
        "id": "YhzEnQp2zp2Y"
      },
      "outputs": [],
      "source": [
        "# Returns the set of unique values for a column in a dataset.\n",
        "def unique_vals(rows, col):\n",
        "   # set initializing using list comprehension\n",
        "  return set([row[col] for row in rows])\n",
        "\n",
        "\n",
        "# Returns the set of number of each type of example in a dataset.\n",
        "def class_counts(rows):\n",
        "  # a dictionary of label(fruit name) -> count\n",
        "  counts = {}\n",
        "  for row in rows:\n",
        "    # in our dataset format, the label(fruit name) is always the last column\n",
        "    label = row[-1]\n",
        "    if label not in counts:\n",
        "      counts[label] = 0\n",
        "    counts[label] += 1\n",
        "  return counts\n",
        "\n",
        "\n",
        "# Return true if number is either int or float\n",
        "def is_numeric(value):\n",
        "  return isinstance(value, (int, float))\n"
      ]
    },
    {
      "cell_type": "markdown",
      "source": [
        "**A Question is used to partition a dataset**\n",
        "\n",
        "This class just records a 'column number' (e.g. 0 for Color) and a 'column value' (e.g. Green). The 'match' method is used to compare the feature value in an example to the feature value stored in the question."
      ],
      "metadata": {
        "id": "KQBaSaq80RTF"
      }
    },
    {
      "cell_type": "code",
      "source": [
        "class Question:\n",
        "  def __init__(self, column, value):\n",
        "    self.column = column\n",
        "    self.value = value\n",
        "\n",
        "  # Compares the feature value in an example to the feature value in this question.\n",
        "  def match(self, example):\n",
        "    val = example[self.column]\n",
        "    if is_numeric(val):\n",
        "      return val >= self.value\n",
        "    else:\n",
        "      return val == self.value\n",
        "\n",
        "  # This is just a helper method to print the question in a readable format.\n",
        "  def __repr__(self):\n",
        "    condition = '=='\n",
        "    if is_numeric(self.value):\n",
        "      condition = '>='\n",
        "    return \"Is %s %s %s?\" % (header[self.column], condition, str(self.value))"
      ],
      "metadata": {
        "id": "U2rnupwcz_hv"
      },
      "execution_count": null,
      "outputs": []
    },
    {
      "cell_type": "markdown",
      "source": [
        "**Partition a dataset**\n",
        "\n",
        "For each row in the dataset, check if it matches the question. If so, add it to 'true rows', otherwise, add it to 'false rows'."
      ],
      "metadata": {
        "id": "oliEpbjZ4F7y"
      }
    },
    {
      "cell_type": "code",
      "source": [
        "# Returns tuple of lists(true rows, false rows)\n",
        "def partition(rows, question):\n",
        "  true_rows, false_rows = [], []\n",
        "  for row in rows:\n",
        "    if question.match(row):\n",
        "      true_rows.append(row)\n",
        "    else:\n",
        "      false_rows.append(row)\n",
        "    return true_rows, false_rows"
      ],
      "metadata": {
        "id": "MrYNJo743AdC"
      },
      "execution_count": null,
      "outputs": []
    },
    {
      "cell_type": "markdown",
      "source": [
        "**Gini Impurity**\n",
        "\n",
        "Calculate the Gini Impurity for a list of rows."
      ],
      "metadata": {
        "id": "imsrmRhV-T9Z"
      }
    },
    {
      "cell_type": "code",
      "source": [
        "def gini(rows):\n",
        "  counts = class_counts(rows)\n",
        "  impurity = 1\n",
        "  for lbl in counts:\n",
        "    prob_of_lbl = counts[lbl] / float(len(rows))\n",
        "    impurity -= prob_of_lbl**2\n",
        "  return impurity"
      ],
      "metadata": {
        "id": "e6xsxccN-Tjb"
      },
      "execution_count": null,
      "outputs": []
    },
    {
      "cell_type": "markdown",
      "source": [
        "**Information Gain**\n",
        "\n",
        "The uncertainty of the starting node, minus the weighted impurity of two child nodes."
      ],
      "metadata": {
        "id": "ZIk2YN4o9kiH"
      }
    },
    {
      "cell_type": "code",
      "source": [
        "def info_gain(left, right, current_uncertainty):\n",
        "  p = float(len(left)) / (len(left) + len(right))\n",
        "  return current_uncertainty - p * gini(left) - (1-p) * gini(right)\n"
      ],
      "metadata": {
        "id": "KPa_Gxkw32Dw"
      },
      "execution_count": null,
      "outputs": []
    },
    {
      "cell_type": "markdown",
      "source": [
        "**Find best split**\n",
        "\n",
        "Find the best question to ask by iterating over every feature / value and calculating the information gain."
      ],
      "metadata": {
        "id": "tDREsiOC_QZP"
      }
    },
    {
      "cell_type": "code",
      "source": [
        "def find_best_split(rows):\n",
        "  # keep track of the best information gain\n",
        "  best_gain = 0\n",
        "  # keep train of the feature / value that produced it\n",
        "  best_question = None\n",
        "  current_uncertainty = gini(rows)\n",
        "  # number of columns\n",
        "  n_features = len(rows[0]) - 1\n",
        "\n",
        "  for col in range(n_features):\n",
        "    # for each feature\n",
        "    values = set([row[col] for row in rows]) # unique values in the column\n",
        "    for val in values:\n",
        "      # for each row\n",
        "      question = Question(col, val)\n",
        "      # try splitting the dataset\n",
        "      true_rows, false_rows = partition(rows, question)\n",
        "\n",
        "      # skip this split if it doesn't divide the dataset\n",
        "      if len(true_rows) == 0 or len(false_rows) == 0:\n",
        "        continue  \n",
        "      \n",
        "      # calculate the information gain from this split\n",
        "      gain = info_gain(true_row, false_rows, current_uncertainty)\n",
        "\n",
        "      if gain >= best_gain:\n",
        "        best_gain, best_question = gain, question\n",
        "\n",
        "    return best_gain, best_question\n"
      ],
      "metadata": {
        "id": "S5X-UMBG_IVC"
      },
      "execution_count": null,
      "outputs": []
    },
    {
      "cell_type": "markdown",
      "source": [
        "**Leaf**\n",
        "\n",
        "A leaf node classifies data."
      ],
      "metadata": {
        "id": "8aA1VyVxCpne"
      }
    },
    {
      "cell_type": "code",
      "source": [
        "class Leaf:\n",
        "  # This holds a dictionary of class (e.g. \"Mango\") -> number of times\n",
        "  # it appears in the rows from the training data that reach this leaf.\n",
        "  def __init__(self, rows):\n",
        "    self.predictions = class_counts(rows)"
      ],
      "metadata": {
        "id": "g6XCidWnCkHv"
      },
      "execution_count": null,
      "outputs": []
    },
    {
      "cell_type": "markdown",
      "source": [
        "**Decision Node**\n",
        "\n",
        "A Decision Node asks a question."
      ],
      "metadata": {
        "id": "pti6T3naDT00"
      }
    },
    {
      "cell_type": "code",
      "source": [
        "class Decision_Node:\n",
        "  # This holds a reference to the question, and to the two child nodes.\n",
        "  def __init__(self, question, true_branch, false_branch):\n",
        "    self.question = question\n",
        "    self.true_branch = true_branch\n",
        "    self.false_branch = false_branch\n"
      ],
      "metadata": {
        "id": "07g6SLgQDTIk"
      },
      "execution_count": null,
      "outputs": []
    },
    {
      "cell_type": "markdown",
      "source": [
        "**Builds the tree**"
      ],
      "metadata": {
        "id": "ea3VVNM7QO_C"
      }
    },
    {
      "cell_type": "code",
      "source": [
        "def build_tree(rows):\n",
        "  # Try partitioning the dataset on each of the unique attribute,\n",
        "  # calculate the information gain, and return the question that produces the highest gain.\n",
        "  gain, question = find_best_split(rows)\n",
        "\n",
        "  # Base case: no further info gain\n",
        "  # Since we can ask no further questions, we'll return a Leaf.\n",
        "  if gain == 0:\n",
        "    return Leaf(rows)\n",
        "\n",
        "  # If we reach here, we have found a useful feature / value to partiotion on.\n",
        "  true_rows, false_rows = partition(rows, question)\n",
        "\n",
        "  # Recursively build the true branch.\n",
        "  true_branch = build_tree(true_rows)\n",
        "\n",
        "  # Return a Question node.\n",
        "  # This records the best feature / value to ask at this point, as well as the branches to follow depending on the answer.\n",
        "  return Decision_Node(question, true_branch, false_branch)\n"
      ],
      "metadata": {
        "id": "e4MPDMHOQP9N"
      },
      "execution_count": null,
      "outputs": []
    },
    {
      "cell_type": "markdown",
      "source": [
        "**Printing tree**"
      ],
      "metadata": {
        "id": "K5HP8aUdKn7I"
      }
    },
    {
      "cell_type": "code",
      "source": [
        "def print_tree(node, spacing = \"\"):\n",
        "  # Base case: We've reached a Leaf\n",
        "  if isinstance(node, Leaf):\n",
        "    print (spacing + \"Predict\", node.predictions)\n",
        "    return\n",
        "  \n",
        "  # Print the question at this node\n",
        "  print (spacing + str(node.question))\n",
        "\n",
        "  # Call this function recursively on the true branch\n",
        "  print (spacing + '--> True:')\n",
        "  print_tree(node.true_branch, spacing + \" \")\n",
        "\n",
        "  # Call this function recursively on the true branch\n",
        "  print (spacing + '--> False:')\n",
        "  print_tree(node.false_branch, spacing + \" \")\n"
      ],
      "metadata": {
        "id": "02xNT9EwKihg"
      },
      "execution_count": null,
      "outputs": []
    },
    {
      "cell_type": "code",
      "source": [
        "def classify(row, node):\n",
        "  # Base case: we've reached a Leaf\n",
        "  if isinstance(node, Leaf):\n",
        "    return node.predictions\n",
        "  \n",
        "  # Decide whether to follow the true-branch or the false-branch.\n",
        "  # Compare the feature / value stored in the node, to the example we're considering.\n",
        "  if node.question.match(row):\n",
        "    return classify(row, node.true_branch)\n",
        "  else:\n",
        "    return classify(row, node.false_branch)"
      ],
      "metadata": {
        "id": "cE9NfSXmMJ6h"
      },
      "execution_count": null,
      "outputs": []
    },
    {
      "cell_type": "markdown",
      "source": [
        "**Print the predictions at a Leaf.**"
      ],
      "metadata": {
        "id": "N6or7XE5Na8N"
      }
    },
    {
      "cell_type": "code",
      "source": [
        "def print_leaf(counts):\n",
        "  total = sum(counts.values()) * 1.0\n",
        "  probs = {}\n",
        "  for lbl in counts.keys():\n",
        "    probs[lbl] = str(int(counts[lbl] / total * 100)) + \"%\"\n",
        "  return probs"
      ],
      "metadata": {
        "id": "GyXIydcCNR0R"
      },
      "execution_count": null,
      "outputs": []
    },
    {
      "cell_type": "markdown",
      "source": [
        "**Running our program**"
      ],
      "metadata": {
        "id": "1phloX4MOaSN"
      }
    },
    {
      "cell_type": "code",
      "source": [
        "# if __name__ == '__Main__':\n",
        "my_tree = build_tree(training_data)\n",
        "print_tree(my_tree)\n",
        "\n",
        "  # Evaluate\n",
        "for row in testing_data:\n",
        "  print(\"Actual: %s. Predicted: %s\" %(row[-1], print_leaf(classify(row, my_tree))))\n"
      ],
      "metadata": {
        "colab": {
          "base_uri": "https://localhost:8080/"
        },
        "id": "aPyK8ZbqN5rI",
        "outputId": "d8e6f3f4-c8a0-4c58-bb45-7fc6a2c4eb3b"
      },
      "execution_count": null,
      "outputs": [
        {
          "output_type": "stream",
          "name": "stdout",
          "text": [
            "Predict {'Mango': 2, 'Grape': 2, 'Lemon': 1}\n",
            "Actual: Mango. Predicted: {'Mango': '40%', 'Grape': '40%', 'Lemon': '20%'}\n",
            "Actual: Mango. Predicted: {'Mango': '40%', 'Grape': '40%', 'Lemon': '20%'}\n",
            "Actual: Grape. Predicted: {'Mango': '40%', 'Grape': '40%', 'Lemon': '20%'}\n",
            "Actual: Grape. Predicted: {'Mango': '40%', 'Grape': '40%', 'Lemon': '20%'}\n",
            "Actual: Lemon. Predicted: {'Mango': '40%', 'Grape': '40%', 'Lemon': '20%'}\n"
          ]
        }
      ]
    },
    {
      "cell_type": "code",
      "source": [],
      "metadata": {
        "id": "gVuS1NdyPJu2"
      },
      "execution_count": null,
      "outputs": []
    }
  ]
}